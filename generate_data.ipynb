{
 "cells": [
  {
   "cell_type": "markdown",
   "metadata": {},
   "source": [
    "## Generate data from GPX"
   ]
  },
  {
   "cell_type": "code",
   "execution_count": 10,
   "metadata": {},
   "outputs": [],
   "source": [
    "import gpxpy\n",
    "import gpxpy.gpx\n",
    "from geopy.distance import geodesic\n",
    "import statistics\n",
    "import gpxpy\n",
    "import gpxpy.gpx\n",
    "from geopy.distance import geodesic\n",
    "from geopy import distance\n",
    "import json\n",
    "\n",
    "\n",
    "\n",
    "race_name = \"Boston Marathon\"\n",
    "\n",
    "file_path = f\"gpx_race/{race_name}.gpx\""
   ]
  },
  {
   "cell_type": "markdown",
   "metadata": {},
   "source": [
    "## Routine"
   ]
  },
  {
   "cell_type": "code",
   "execution_count": 11,
   "metadata": {},
   "outputs": [
    {
     "name": "stdout",
     "output_type": "stream",
     "text": [
      "Total Length of Course: 42521.19 meters\n",
      "Number of Segments: 3886\n",
      "Longest Segment: 16.71 meters\n",
      "Shortest Segment: 3.25 meters\n",
      "Average Segment Length: 10.94 meters\n"
     ]
    }
   ],
   "source": [
    "\n",
    "\n",
    "def analyze_gpx_point_to_point(gpx_file):\n",
    "    with open(gpx_file, 'r') as file:\n",
    "        gpx = gpxpy.parse(file)\n",
    "\n",
    "    total_length = 0\n",
    "    segments_lengths = []\n",
    "\n",
    "    # Calculer la distance entre chaque point successif\n",
    "    for track in gpx.tracks:\n",
    "        for segment in track.segments:\n",
    "            for i in range(len(segment.points) - 1):\n",
    "                point_a = segment.points[i]\n",
    "                point_b = segment.points[i+1]\n",
    "                segment_length = geodesic(\n",
    "                    (point_a.latitude, point_a.longitude),\n",
    "                    (point_b.latitude, point_b.longitude)).meters\n",
    "                segments_lengths.append(segment_length)\n",
    "                total_length += segment_length\n",
    "\n",
    "    # Statistiques des segments\n",
    "    longest_segment = max(segments_lengths) if segments_lengths else 0\n",
    "    shortest_segment = min(segments_lengths) if segments_lengths else 0\n",
    "    average_length = statistics.mean(segments_lengths) if segments_lengths else 0\n",
    "    num_segments = len(segments_lengths)\n",
    "\n",
    "    return {\n",
    "        'total_length': total_length,\n",
    "        'number_of_segments': num_segments,\n",
    "        'longest_segment': longest_segment,\n",
    "        'shortest_segment': shortest_segment,\n",
    "        'average_segment_length': average_length\n",
    "    }\n",
    "\n",
    "# Utilisation de la fonction\n",
    "gpx_stats = analyze_gpx_point_to_point(file_path)\n",
    "print(\"Total Length of Course: {:.2f} meters\".format(gpx_stats['total_length']))\n",
    "print(\"Number of Segments: {}\".format(gpx_stats['number_of_segments']))\n",
    "print(\"Longest Segment: {:.2f} meters\".format(gpx_stats['longest_segment']))\n",
    "print(\"Shortest Segment: {:.2f} meters\".format(gpx_stats['shortest_segment']))\n",
    "print(\"Average Segment Length: {:.2f} meters\".format(gpx_stats['average_segment_length']))\n"
   ]
  },
  {
   "cell_type": "markdown",
   "metadata": {},
   "source": [
    "## Créer le json des directions"
   ]
  },
  {
   "cell_type": "code",
   "execution_count": 22,
   "metadata": {},
   "outputs": [
    {
     "name": "stdout",
     "output_type": "stream",
     "text": [
      "directions_race/Boston Marathon_directions.json\n"
     ]
    }
   ],
   "source": [
    "import gpxpy\n",
    "import gpxpy.gpx\n",
    "from geopy.distance import geodesic\n",
    "from geographiclib.geodesic import Geodesic\n",
    "import json\n",
    "\n",
    "def calculate_directions(gpx_file):\n",
    "    # Charger le fichier GPX\n",
    "    with open(gpx_file, 'r') as file:\n",
    "        gpx = gpxpy.parse(file)\n",
    "\n",
    "    segments_directions = []\n",
    "    # Itérer sur tous les segments dans toutes les pistes\n",
    "    for track in gpx.tracks:\n",
    "        for segment in track.segments:\n",
    "            i = 0\n",
    "            while i < len(segment.points) - 1:\n",
    "                segment_start = segment.points[i]\n",
    "                total_distance = 0.0\n",
    "                # Trouver le point à au moins 100 mètres\n",
    "                for j in range(i + 1, len(segment.points)):\n",
    "                    step_distance = geodesic(\n",
    "                        (segment.points[j-1].latitude, segment.points[j-1].longitude),\n",
    "                        (segment.points[j].latitude, segment.points[j].longitude)).meters\n",
    "                    total_distance += step_distance\n",
    "                    if total_distance >= 100:\n",
    "                        break\n",
    "                if j < len(segment.points):\n",
    "                    # Calculer la direction\n",
    "                    initial_pos = (segment_start.latitude, segment_start.longitude)\n",
    "                    final_pos = (segment.points[j].latitude, segment.points[j].longitude)\n",
    "                    azimuth = Geodesic.WGS84.Inverse(initial_pos[0], initial_pos[1], final_pos[0], final_pos[1])['azi1']\n",
    "                    segments_directions.append({'start': initial_pos, 'end': final_pos, 'direction': azimuth,'length':total_distance})\n",
    "                    i = j\n",
    "                else:\n",
    "                    break\n",
    "\n",
    "    # Convertir en JSON\n",
    "    json_data = json.dumps(segments_directions, indent=2)\n",
    "    # Déterminer le nom de fichier à partir du nom de fichier GPX\n",
    "    json_file_name = f\"directions_race/{race_name}_directions.json\"\n",
    "    # Sauvegarder le fichier JSON\n",
    "    with open(json_file_name, 'w') as f: f.write(json_data)\n",
    "\n",
    "\n",
    "\n",
    "    return json_file_name  # retourner le nom du fichier JSON pour confirmation\n",
    "\n",
    "\n",
    "\n",
    "# Utilisation de la fonction\n",
    "directions_json = calculate_directions(file_path)\n",
    "print(directions_json)\n"
   ]
  }
 ],
 "metadata": {
  "kernelspec": {
   "display_name": "Python 3",
   "language": "python",
   "name": "python3"
  },
  "language_info": {
   "codemirror_mode": {
    "name": "ipython",
    "version": 3
   },
   "file_extension": ".py",
   "mimetype": "text/x-python",
   "name": "python",
   "nbconvert_exporter": "python",
   "pygments_lexer": "ipython3",
   "version": "3.9.2"
  }
 },
 "nbformat": 4,
 "nbformat_minor": 2
}
